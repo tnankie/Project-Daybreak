{
 "cells": [
  {
   "cell_type": "code",
   "execution_count": null,
   "metadata": {},
   "outputs": [],
   "source": [
    "heat map for categorical to cat comparison\n",
    "for heat map show percentage not actual number\n",
    "percentage impaired in placed of survived.\n",
    "\n",
    "---------------------------------------------------\n",
    "intro- describe data , source, question, analysis proposed \n",
    "\n",
    "wrangling - clean data, dummy vars, arrangement\n",
    "\n",
    "eda - with summary stats, only the important analysis, numerical + cat count distribution and relationship to target variable. + statistical tests to target variable.\n",
    "\n",
    "(use importance function of model and use those features in the EDA)\n",
    "\n",
    "modelling 3 diff models, short discussion pros, cons, assumptions.\n",
    "table results training testing for each model and timing for training\n",
    "\n",
    "then grid search for best model\n",
    "plot performance of model for training and validation for each hyper parameter in the grid search\n",
    "\n",
    "Discussion of the results\n",
    "describe the limitation of the data, the analysis and the model. What is the future work.\n",
    "\n"
   ]
  },
  {
   "cell_type": "code",
   "execution_count": null,
   "metadata": {},
   "outputs": [],
   "source": []
  }
 ],
 "metadata": {
  "kernelspec": {
   "display_name": "Python 3",
   "language": "python",
   "name": "python3"
  },
  "language_info": {
   "codemirror_mode": {
    "name": "ipython",
    "version": 3
   },
   "file_extension": ".py",
   "mimetype": "text/x-python",
   "name": "python",
   "nbconvert_exporter": "python",
   "pygments_lexer": "ipython3",
   "version": "3.7.6"
  }
 },
 "nbformat": 4,
 "nbformat_minor": 4
}
